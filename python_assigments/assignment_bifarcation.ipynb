{
 "cells": [
  {
   "cell_type": "code",
   "execution_count": 1,
   "id": "2844884c",
   "metadata": {},
   "outputs": [
    {
     "data": {
      "text/plain": [
       "'E:\\\\task'"
      ]
     },
     "execution_count": 1,
     "metadata": {},
     "output_type": "execute_result"
    }
   ],
   "source": [
    "import os\n",
    "os.getcwd()"
   ]
  },
  {
   "cell_type": "code",
   "execution_count": 2,
   "id": "8b1f4b29",
   "metadata": {},
   "outputs": [
    {
     "data": {
      "text/plain": [
       "['.ipynb_checkpoints',\n",
       " 'Assignment_1.docx',\n",
       " 'Assignment_2.docx',\n",
       " 'Assignment_3.docx',\n",
       " 'Assignment_4.docx',\n",
       " 'Programming_Assingment1.docx',\n",
       " 'Programming_Assingment2.docx',\n",
       " 'Programming_Assingment3.docx',\n",
       " 'Programming_Assingment4.docx',\n",
       " 'Untitled.ipynb']"
      ]
     },
     "execution_count": 2,
     "metadata": {},
     "output_type": "execute_result"
    }
   ],
   "source": [
    "os.listdir()"
   ]
  },
  {
   "cell_type": "code",
   "execution_count": 28,
   "id": "8e961ff1",
   "metadata": {},
   "outputs": [
    {
     "name": "stdout",
     "output_type": "stream",
     "text": [
      "Requirement already satisfied: python-docx in c:\\users\\punit\\anaconda3\\lib\\site-packages (0.8.11)\n",
      "Requirement already satisfied: lxml>=2.3.2 in c:\\users\\punit\\anaconda3\\lib\\site-packages (from python-docx) (4.6.3)\n"
     ]
    }
   ],
   "source": [
    "!pip install python-docx\n",
    "\n"
   ]
  },
  {
   "cell_type": "code",
   "execution_count": 10,
   "id": "133e7407",
   "metadata": {},
   "outputs": [],
   "source": [
    "import shutil"
   ]
  },
  {
   "cell_type": "code",
   "execution_count": 30,
   "id": "3bf9fbca",
   "metadata": {},
   "outputs": [],
   "source": [
    "import docx"
   ]
  },
  {
   "cell_type": "code",
   "execution_count": 31,
   "id": "08f832eb",
   "metadata": {},
   "outputs": [],
   "source": [
    "from docx import Document"
   ]
  },
  {
   "cell_type": "code",
   "execution_count": 55,
   "id": "53564435",
   "metadata": {},
   "outputs": [
    {
     "name": "stdout",
     "output_type": "stream",
     "text": [
      "Assignment_1.docx\n",
      "11\n",
      "Assignment\n",
      "Assignment_1.docx\n",
      "11\n",
      "Assignment\n",
      "folder has been created\n",
      "consolidate_Assignment.docx\n",
      "consolidate_Assignment.docx\n",
      "consolidate_Assignment.docx\n",
      "Assignment_2.docx\n",
      "11\n",
      "Assignment\n",
      "consolidate_Assignment.docx\n",
      "consolidate_Assignment.docx\n",
      "Assignment_3.docx\n",
      "11\n",
      "Assignment\n",
      "consolidate_Assignment.docx\n",
      "consolidate_Assignment.docx\n",
      "Assignment_4.docx\n",
      "11\n",
      "Assignment\n",
      "consolidate_Assignment.docx\n",
      "consolidate_Assignment.docx\n",
      "Programming_Assingment1.docx\n",
      "22\n",
      "Programming_Assingmen\n",
      "Programming_Assingment1.docx\n",
      "22\n",
      "Programming_Assingmen\n",
      "folder has been created\n",
      "consolidate_Programming_Assingmen.docx\n",
      "consolidate_Programming_Assingmen.docx\n",
      "consolidate_Programming_Assingmen.docx\n",
      "Programming_Assingment2.docx\n",
      "22\n",
      "Programming_Assingmen\n",
      "consolidate_Programming_Assingmen.docx\n",
      "consolidate_Programming_Assingmen.docx\n",
      "Programming_Assingment3.docx\n",
      "22\n",
      "Programming_Assingmen\n",
      "consolidate_Programming_Assingmen.docx\n",
      "consolidate_Programming_Assingmen.docx\n",
      "Programming_Assingment4.docx\n",
      "22\n",
      "Programming_Assingmen\n",
      "consolidate_Programming_Assingmen.docx\n",
      "consolidate_Programming_Assingmen.docx\n"
     ]
    }
   ],
   "source": [
    "\n",
    "def check_docx(file):\n",
    "    if file.find(\".docx\")>=0:\n",
    "        return True\n",
    "    else:\n",
    "        return False\n",
    "\n",
    "\n",
    "def folder_creation(filename):\n",
    "    print(filename)\n",
    "    folder = \"\"\n",
    "    for iter in filename:\n",
    "        if iter.isdigit():\n",
    "            folder = filename[0:filename.index(iter)-1]\n",
    "            print(filename.index(iter))\n",
    "            break\n",
    "    print(folder)        \n",
    "    return folder\n",
    "\n",
    "\n",
    "def consolidate_file(file):\n",
    "    print(f\"consolidate_{file}.docx\")\n",
    "    return f\"consolidate_{file}.docx\"\n",
    "\n",
    "\n",
    "for file in os.listdir():\n",
    "    if check_docx(file):\n",
    "        if os.path.exists(os.getcwd()+\"\\\\\"+folder_creation(file)):\n",
    "            pass\n",
    "        else:\n",
    "            folder = folder_creation(file)\n",
    "            os.mkdir(os.getcwd()+\"\\\\\"+folder)\n",
    "            print(f\"folder has been created\")\n",
    "\n",
    "        doc = Document(file)\n",
    "        data = \"\"\n",
    "        fulltext = []\n",
    "        for para in doc.paragraphs:\n",
    "            fulltext.append(para.text)\n",
    "        data = \"\\n\".join(fulltext)\n",
    "            \n",
    "        try:\n",
    "            doc1 = Document(os.getcwd()+\"\\\\\"+folder+\"\\\\\"+consolidate_file(folder))\n",
    "        except:\n",
    "            doc1 = Document()\n",
    "            doc1.save(os.getcwd()+\"\\\\\"+folder+\"\\\\\"+consolidate_file(folder))\n",
    "        doc = Document(file)\n",
    "        doc1.add_heading(file, level=2)\n",
    "        doc1.add_paragraph(data)\n",
    "\n",
    "        doc1.save(os.getcwd()+\"\\\\\"+folder+\"\\\\\"+consolidate_file(folder))\n",
    "        shutil.move(file,folder)\n"
   ]
  },
  {
   "cell_type": "code",
   "execution_count": 54,
   "id": "95026005",
   "metadata": {},
   "outputs": [
    {
     "data": {
      "text/plain": [
       "'E:\\\\task'"
      ]
     },
     "execution_count": 54,
     "metadata": {},
     "output_type": "execute_result"
    }
   ],
   "source": [
    "os.getcwd()"
   ]
  },
  {
   "cell_type": "code",
   "execution_count": null,
   "id": "76f21f61",
   "metadata": {},
   "outputs": [],
   "source": []
  }
 ],
 "metadata": {
  "kernelspec": {
   "display_name": "Python 3",
   "language": "python",
   "name": "python3"
  },
  "language_info": {
   "codemirror_mode": {
    "name": "ipython",
    "version": 3
   },
   "file_extension": ".py",
   "mimetype": "text/x-python",
   "name": "python",
   "nbconvert_exporter": "python",
   "pygments_lexer": "ipython3",
   "version": "3.8.8"
  }
 },
 "nbformat": 4,
 "nbformat_minor": 5
}
